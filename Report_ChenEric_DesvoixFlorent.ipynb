{
 "cells": [
  {
   "cell_type": "markdown",
   "metadata": {},
   "source": [
    "**Students:** CHEN Eric, DESVOIX Florent"
   ]
  },
  {
   "cell_type": "markdown",
   "metadata": {},
   "source": [
    "# SD-TSIA210 : Challenge"
   ]
  },
  {
   "cell_type": "markdown",
   "metadata": {},
   "source": [
    "This report aims to briefly introduce a significant part of the algorithms we used, and the way we computed them. As our computers were not able to run those tasks, we ran our Python scripts on GPUs (gpu2.enst.fr) and on CPUs from the school. The pieces of code included in this report aim at understanding what we did."
   ]
  },
  {
   "cell_type": "markdown",
   "metadata": {},
   "source": [
    "## Imports"
   ]
  },
  {
   "cell_type": "markdown",
   "metadata": {},
   "source": [
    "Some useful Python librairies we used to compute our predictions:"
   ]
  },
  {
   "cell_type": "code",
   "execution_count": 1,
   "metadata": {},
   "outputs": [],
   "source": [
    "import warnings\n",
    "warnings.filterwarnings('ignore')\n",
    "import pandas as pd\n",
    "import numpy as np\n",
    "from random import sample\n",
    "import matplotlib.pyplot as plt\n",
    "\n",
    "from sklearn.model_selection import train_test_split, GridSearchCV\n",
    "from sklearn.preprocessing import StandardScaler\n",
    "from imblearn.over_sampling import SMOTE\n",
    "\n",
    "from sklearn.linear_model import Perceptron\n",
    "from sklearn.svm import SVC\n",
    "import tensorflow as tf\n",
    "from sklearn.ensemble import StackingClassifier\n",
    "from sklearn.ensemble import RandomForestClassifier\n",
    "from xgboost import XGBClassifier\n",
    "from sklearn.linear_model import LogisticRegression"
   ]
  },
  {
   "cell_type": "markdown",
   "metadata": {},
   "source": [
    "Then we import our dataset. (`X_small`, `y_small`) is, as its name suggests, a small version of the dataset. We only use this version within the notebook. Obviously, the biggest one was used for our computations."
   ]
  },
  {
   "cell_type": "code",
   "execution_count": 2,
   "metadata": {},
   "outputs": [],
   "source": [
    "df_X = pd.read_csv('./data/xtrain_challenge.csv')\n",
    "df_y = pd.read_csv('./data/ytrain_challenge.csv')\n",
    "\n",
    "X = df_X.values\n",
    "y = df_y.values\n",
    "\n",
    "ind = sample(list(np.arange(0, len(X))), 10000)\n",
    "X_small = X[ind]\n",
    "y_small = y[ind]"
   ]
  },
  {
   "cell_type": "markdown",
   "metadata": {},
   "source": [
    "## Introduction and visualization"
   ]
  },
  {
   "cell_type": "markdown",
   "metadata": {},
   "source": [
    "During this challenge, we will do classification. Our dataset includes two classes: class 0 (not the same image) and class 1 (the same image). \n",
    "\n",
    "First, let's look at the distribution of data across these two classes."
   ]
  },
  {
   "cell_type": "code",
   "execution_count": 3,
   "metadata": {},
   "outputs": [
    {
     "data": {
      "image/png": "[encoded data removed]",
      "text/plain": [
       "<Figure size 432x288 with 1 Axes>"
      ]
     },
     "metadata": {
      "needs_background": "light"
     },
     "output_type": "display_data"
    }
   ],
   "source": [
    "width = 0.1\n",
    "plt.bar([0, 1], [len(y[y == 0]), len(y[y == 1])], width)\n",
    "plt.title(\"Number of observations depending on the class\")\n",
    "plt.show()"
   ]
  },
  {
   "cell_type": "code",
   "execution_count": 4,
   "metadata": {},
   "outputs": [
    {
     "name": "stdout",
     "output_type": "stream",
     "text": [
      "% of samples from class 0 : 0.9629453890673315\n",
      "% of samples from class 1 : 0.03705461093266848\n"
     ]
    }
   ],
   "source": [
    "print(f\"% of samples from class 0 : {len(y[y == 0]) / len(y)}\")\n",
    "print(f\"% of samples from class 1 : {len(y[y == 1]) / len(y)}\")"
   ]
  },
  {
   "cell_type": "markdown",
   "metadata": {},
   "source": [
    "As we can see, we are dealing with an imbalanced dataset, so we can suppose that we will have a majority of false negatives.\n",
    "\n",
    "To better understand if an algorithm works, we will define a \"universal\" way to evaluate it. In particular, we will look carefully at the number of false negatives.\n",
    "\n",
    "As our algorithms don't output the prediction in the same format, first, for each model, we will define a function, `predict`, which outputs the computations with the right format (a numpy array with 0 or 1).\n",
    "\n",
    "Then, the following `score` function will use this function, so as to compute :\n",
    "- the accuracy\n",
    "- % of false positives\n",
    "- % of false negatives\n",
    "- the recall ($\\frac{\\text{TP}}{\\text{TP} + \\text{FP}}$)\n",
    "- the specificity ($\\frac{\\text{TN}}{\\text{TN} + \\text{FP}}$)"
   ]
  },
  {
   "cell_type": "code",
   "execution_count": 5,
   "metadata": {},
   "outputs": [],
   "source": [
    "def score(model_label, predict_function, X, y):\n",
    "    y = y.flatten()\n",
    "    n = len(y)\n",
    "    y_pred = predict_function(X)\n",
    "    errors = len(np.where(y_pred != y)[0])\n",
    "    false_neg = len(np.where(y_pred - y == -1)[0])\n",
    "    false_pos = len(np.where(y_pred - y == 1)[0])\n",
    "    true_neg = len(y[np.logical_and(y == 0, y_pred == 0)])\n",
    "    true_pos = len(y[np.logical_and(y == 1, y_pred == 1)])\n",
    "    print(f\"================ Model: {model_label} ================\")\n",
    "    print(f\"Accuracy: {1 - errors / n}\")\n",
    "    print(f\"% of false positives: {false_pos / errors}\")\n",
    "    print(f\"% of false negatives: {false_neg / errors}\")\n",
    "    print(f\"Recall: {true_pos / (true_pos + false_neg)}\")\n",
    "    print(f\"Specificity: {true_neg / (true_neg + false_pos)}\")"
   ]
  },
  {
   "cell_type": "markdown",
   "metadata": {},
   "source": [
    "We will explain how we tuned the following models, and the issues we encountered:\n",
    "- Perceptron\n",
    "- SVM\n",
    "- Neural Networks\n",
    "- Random Forest\n",
    "- XGBoosting\n",
    "- Stacking\n",
    "- Data augmentation\n",
    "\n",
    "For each model, we will give the accuracy obtained on the test set (with the full dataset).\n",
    "\n",
    "Let's split our dataset into train and test sets and normalize them."
   ]
  },
  {
   "cell_type": "code",
   "execution_count": 6,
   "metadata": {},
   "outputs": [],
   "source": [
    "X_train, X_test, y_train, y_test = train_test_split(X_small,\n",
    "                                                    y_small,\n",
    "                                                    train_size=0.8)"
   ]
  },
  {
   "cell_type": "code",
   "execution_count": 7,
   "metadata": {},
   "outputs": [],
   "source": [
    "scaler = StandardScaler()\n",
    "\n",
    "X_train = scaler.fit_transform(X_train)\n",
    "X_test = scaler.transform(X_test)"
   ]
  },
  {
   "cell_type": "markdown",
   "metadata": {},
   "source": [
    "## Perceptron"
   ]
  },
  {
   "cell_type": "markdown",
   "metadata": {},
   "source": [
    "To start, let's look at what a simple algorithm like Perceptron can do. It is also the opportunity, to illustrate the approach we discussed."
   ]
  },
  {
   "cell_type": "code",
   "execution_count": 8,
   "metadata": {},
   "outputs": [
    {
     "data": {
      "text/plain": [
       "Perceptron(alpha=0.0001, class_weight=None, early_stopping=False, eta0=1.0,\n",
       "           fit_intercept=True, max_iter=1000, n_iter_no_change=5, n_jobs=None,\n",
       "           penalty=None, random_state=0, shuffle=True, tol=0.001,\n",
       "           validation_fraction=0.1, verbose=0, warm_start=False)"
      ]
     },
     "execution_count": 8,
     "metadata": {},
     "output_type": "execute_result"
    }
   ],
   "source": [
    "perceptron = Perceptron()\n",
    "perceptron.fit(X_train, y_train)"
   ]
  },
  {
   "cell_type": "code",
   "execution_count": 9,
   "metadata": {},
   "outputs": [
    {
     "name": "stdout",
     "output_type": "stream",
     "text": [
      "================ Model: Perceptron ================\n",
      "Accuracy: 0.9985\n",
      "% of false positives: 0.6666666666666666\n",
      "% of false negatives: 0.3333333333333333\n",
      "Recall: 0.9868421052631579\n",
      "Specificity: 0.998960498960499\n"
     ]
    }
   ],
   "source": [
    "predict = lambda X: perceptron.predict(X)\n",
    "score(\"Perceptron\", predict, X_test, y_test)"
   ]
  },
  {
   "cell_type": "markdown",
   "metadata": {},
   "source": [
    "As expected, we have a \"bad\" recall, so our predictor badly classifies elements from class 1.\n",
    "\n",
    "We will tune the model:\n",
    "- our first idea was to add a class weight\n",
    "- we will also try to find the best learning rate"
   ]
  },
  {
   "cell_type": "code",
   "execution_count": 10,
   "metadata": {},
   "outputs": [
    {
     "data": {
      "text/plain": [
       "Perceptron(alpha=0.0001, class_weight={0: 1, 1: 2}, early_stopping=False,\n",
       "           eta0=1.0, fit_intercept=True, max_iter=1000, n_iter_no_change=5,\n",
       "           n_jobs=None, penalty=None, random_state=0, shuffle=True, tol=0.001,\n",
       "           validation_fraction=0.1, verbose=0, warm_start=False)"
      ]
     },
     "execution_count": 10,
     "metadata": {},
     "output_type": "execute_result"
    }
   ],
   "source": [
    "class_weight = {0: 1, 1: 2}\n",
    "perceptron = Perceptron(class_weight=class_weight)\n",
    "perceptron.fit(X_train, y_train)"
   ]
  },
  {
   "cell_type": "code",
   "execution_count": 11,
   "metadata": {},
   "outputs": [
    {
     "name": "stdout",
     "output_type": "stream",
     "text": [
      "================ Model: Perceptron ================\n",
      "Accuracy: 0.9975\n",
      "% of false positives: 0.4\n",
      "% of false negatives: 0.6\n",
      "Recall: 0.9605263157894737\n",
      "Specificity: 0.998960498960499\n"
     ]
    }
   ],
   "source": [
    "score(\"Perceptron\", predict, X_test, y_test)"
   ]
  },
  {
   "cell_type": "markdown",
   "metadata": {},
   "source": [
    "Here we improved our recall with class weights."
   ]
  },
  {
   "cell_type": "code",
   "execution_count": 12,
   "metadata": {},
   "outputs": [
    {
     "data": {
      "text/plain": [
       "GridSearchCV(cv=5, error_score=nan,\n",
       "             estimator=Perceptron(alpha=0.0001, class_weight={0: 1, 1: 2},\n",
       "                                  early_stopping=False, eta0=1.0,\n",
       "                                  fit_intercept=True, max_iter=1000,\n",
       "                                  n_iter_no_change=5, n_jobs=None, penalty=None,\n",
       "                                  random_state=0, shuffle=True, tol=0.001,\n",
       "                                  validation_fraction=0.1, verbose=0,\n",
       "                                  warm_start=False),\n",
       "             iid='deprecated', n_jobs=None,\n",
       "             param_grid={'class_weight': [{0: 1,...\n",
       "                                          {0: 1, 1: 1.2}, {0: 1, 1: 1.3},\n",
       "                                          {0: 1, 1: 1.4}, {0: 1, 1: 1.5},\n",
       "                                          {0: 1, 1: 1.6}, {0: 1, 1: 1.7},\n",
       "                                          {0: 1, 1: 1.8}, {0: 1, 1: 1.9},\n",
       "                                          {0: 1, 1: 2.0}, {0: 1, 1: 2.1},\n",
       "                                          {0: 1, 1: 2.2}, {0: 1, 1: 2.3},\n",
       "                                          {0: 1, 1: 2.4}, {0: 1, 1: 2.5},\n",
       "                                          {0: 1, 1: 2.6}, {0: 1, 1: 2.7},\n",
       "                                          {0: 1, 1: 2.8}, {0: 1, 1: 2.9}],\n",
       "                         'eta0': [0.1, 0.01, 0.001, 0.0001, 1e-05, 1e-06, 1e-07,\n",
       "                                  1e-08, 1e-09]},\n",
       "             pre_dispatch='2*n_jobs', refit=True, return_train_score=False,\n",
       "             scoring=None, verbose=0)"
      ]
     },
     "execution_count": 12,
     "metadata": {},
     "output_type": "execute_result"
    }
   ],
   "source": [
    "params = {\n",
    "    'class_weight': [{0: 1, 1: (i / 10)} for i in range(10, 30)],\n",
    "    'eta0': [(1 / 10**(i)) for i in range(1, 10)]\n",
    "}\n",
    "\n",
    "clf = GridSearchCV(perceptron, params, cv=5)\n",
    "clf.fit(X_train, y_train)"
   ]
  },
  {
   "cell_type": "code",
   "execution_count": 13,
   "metadata": {},
   "outputs": [
    {
     "name": "stdout",
     "output_type": "stream",
     "text": [
      "Best parameters:\n",
      "{'class_weight': {0: 1, 1: 1.1}, 'eta0': 0.1}\n"
     ]
    }
   ],
   "source": [
    "print(f'Best parameters:\\n{clf.best_params_}')"
   ]
  },
  {
   "cell_type": "markdown",
   "metadata": {},
   "source": [
    "But in practice, we obtain better results on the test set with class weight $(1, 2)$."
   ]
  },
  {
   "cell_type": "code",
   "execution_count": 14,
   "metadata": {},
   "outputs": [
    {
     "data": {
      "text/plain": [
       "Perceptron(alpha=0.0001, class_weight={0: 1, 1: 2}, early_stopping=False,\n",
       "           eta0=0.01, fit_intercept=True, max_iter=1000, n_iter_no_change=5,\n",
       "           n_jobs=None, penalty=None, random_state=0, shuffle=True, tol=0.001,\n",
       "           validation_fraction=0.1, verbose=0, warm_start=False)"
      ]
     },
     "execution_count": 14,
     "metadata": {},
     "output_type": "execute_result"
    }
   ],
   "source": [
    "perceptron = Perceptron(\n",
    "    class_weight={0: 1, 1: 2},\n",
    "    eta0=0.01\n",
    ")\n",
    "perceptron.fit(X_train, y_train)"
   ]
  },
  {
   "cell_type": "code",
   "execution_count": 15,
   "metadata": {},
   "outputs": [
    {
     "name": "stdout",
     "output_type": "stream",
     "text": [
      "================ Model: Perceptron ================\n",
      "Accuracy: 0.9975\n",
      "% of false positives: 0.4\n",
      "% of false negatives: 0.6\n",
      "Recall: 0.9605263157894737\n",
      "Specificity: 0.998960498960499\n"
     ]
    }
   ],
   "source": [
    "score(\"Perceptron\", predict, X_test, y_test)"
   ]
  },
  {
   "cell_type": "markdown",
   "metadata": {},
   "source": [
    "Finally, we ran this algorithm with the full dataset. We obtain the accuracy : ~**0.9973**"
   ]
  },
  {
   "cell_type": "markdown",
   "metadata": {},
   "source": [
    "## Support Vector Machine (SVM)"
   ]
  },
  {
   "cell_type": "markdown",
   "metadata": {},
   "source": [
    "We used the same approach for SVM."
   ]
  },
  {
   "cell_type": "code",
   "execution_count": 16,
   "metadata": {},
   "outputs": [
    {
     "data": {
      "text/plain": [
       "GridSearchCV(cv=3, error_score=nan,\n",
       "             estimator=SVC(C=1.0, break_ties=False, cache_size=200,\n",
       "                           class_weight=None, coef0=0.0,\n",
       "                           decision_function_shape='ovr', degree=3,\n",
       "                           gamma='scale', kernel='rbf', max_iter=-1,\n",
       "                           probability=False, random_state=None, shrinking=True,\n",
       "                           tol=0.001, verbose=False),\n",
       "             iid='deprecated', n_jobs=None,\n",
       "             param_grid={'C': array([ 1,  2,  3,  4,  5,  6,  7,  8,  9, 10]),\n",
       "                         'class_...0: 1, 1: 1.0}, {0: 1, 1: 1.1},\n",
       "                                          {0: 1, 1: 1.2}, {0: 1, 1: 1.3},\n",
       "                                          {0: 1, 1: 1.4}, {0: 1, 1: 1.5},\n",
       "                                          {0: 1, 1: 1.6}, {0: 1, 1: 1.7},\n",
       "                                          {0: 1, 1: 1.8}, {0: 1, 1: 1.9},\n",
       "                                          {0: 1, 1: 2.0}, {0: 1, 1: 2.1},\n",
       "                                          {0: 1, 1: 2.2}, {0: 1, 1: 2.3},\n",
       "                                          {0: 1, 1: 2.4}, {0: 1, 1: 2.5},\n",
       "                                          {0: 1, 1: 2.6}, {0: 1, 1: 2.7},\n",
       "                                          {0: 1, 1: 2.8}, {0: 1, 1: 2.9}],\n",
       "                         'kernel': ['linear', 'rbf']},\n",
       "             pre_dispatch='2*n_jobs', refit=True, return_train_score=False,\n",
       "             scoring=None, verbose=0)"
      ]
     },
     "execution_count": 16,
     "metadata": {},
     "output_type": "execute_result"
    }
   ],
   "source": [
    "svm = SVC()\n",
    "\n",
    "params = {\n",
    "    'kernel': ['linear', 'rbf'],\n",
    "    'C': np.arange(1, 11),\n",
    "    'class_weight': [{0: 1, 1: (i / 10)} for i in range(10, 30)]\n",
    "}\n",
    "\n",
    "clf = GridSearchCV(svm, params, cv=3)\n",
    "clf.fit(X_train, y_train)"
   ]
  },
  {
   "cell_type": "code",
   "execution_count": 17,
   "metadata": {},
   "outputs": [
    {
     "name": "stdout",
     "output_type": "stream",
     "text": [
      "Best parameters:\n",
      "{'C': 2, 'class_weight': {0: 1, 1: 1.3}, 'kernel': 'rbf'}\n"
     ]
    }
   ],
   "source": [
    "print(f'Best parameters:\\n{clf.best_params_}')"
   ]
  },
  {
   "cell_type": "code",
   "execution_count": 18,
   "metadata": {},
   "outputs": [
    {
     "data": {
      "text/plain": [
       "SVC(C=4, break_ties=False, cache_size=200, class_weight={0: 1, 1: 2}, coef0=0.0,\n",
       "    decision_function_shape='ovr', degree=3, gamma='scale', kernel='rbf',\n",
       "    max_iter=-1, probability=False, random_state=None, shrinking=True,\n",
       "    tol=0.001, verbose=False)"
      ]
     },
     "execution_count": 18,
     "metadata": {},
     "output_type": "execute_result"
    }
   ],
   "source": [
    "svm = SVC(\n",
    "    C=4,\n",
    "    class_weight={0: 1, 1: 2},\n",
    "    kernel='rbf'\n",
    ")\n",
    "\n",
    "svm.fit(X_train, y_train)"
   ]
  },
  {
   "cell_type": "code",
   "execution_count": 19,
   "metadata": {},
   "outputs": [
    {
     "name": "stdout",
     "output_type": "stream",
     "text": [
      "================ Model: SVM ================\n",
      "Accuracy: 0.998\n",
      "% of false positives: 0.0\n",
      "% of false negatives: 1.0\n",
      "Recall: 0.9473684210526315\n",
      "Specificity: 1.0\n"
     ]
    }
   ],
   "source": [
    "predict = lambda X: svm.predict(X)\n",
    "score(\"SVM\", predict, X_test, y_test)"
   ]
  },
  {
   "cell_type": "markdown",
   "metadata": {},
   "source": [
    "We can make the same remark: in practice, we obtain better results when we set class weight to 2.\n",
    "The accuracy is: ~**0.9980**"
   ]
  },
  {
   "cell_type": "markdown",
   "metadata": {},
   "source": [
    "## Neural Networks"
   ]
  },
  {
   "cell_type": "markdown",
   "metadata": {},
   "source": [
    "First, it was difficult to have an intuition to design the right neural network, so we made a lot of tests. The template we used is the following (inspired by the lab sessions and a Keras' tutorial):\n",
    "\n",
    "- First, we define our model in the following function:"
   ]
  },
  {
   "cell_type": "code",
   "execution_count": 20,
   "metadata": {},
   "outputs": [],
   "source": [
    "METRICS = [\n",
    "      tf.keras.metrics.TruePositives(name='tp'),\n",
    "      tf.keras.metrics.FalsePositives(name='fp'),\n",
    "      tf.keras.metrics.TrueNegatives(name='tn'),\n",
    "      tf.keras.metrics.FalseNegatives(name='fn'), \n",
    "      tf.keras.metrics.BinaryAccuracy(name='accuracy'),\n",
    "      tf.keras.metrics.Precision(name='precision'),\n",
    "      tf.keras.metrics.Recall(name='recall'),\n",
    "      tf.keras.metrics.AUC(name='auc'),\n",
    "]\n",
    "\n",
    "def make_model(X_train, metrics=METRICS, output_bias=None):\n",
    "    if output_bias is not None:\n",
    "        output_bias = tf.keras.initializers.Constant(output_bias)\n",
    "    model = tf.keras.Sequential([\n",
    "        tf.keras.layers.Dense(\n",
    "            16, activation='relu',\n",
    "            input_shape=(X_train.shape[-1],)),\n",
    "        tf.keras.layers.Dense(\n",
    "            8, activation='relu',\n",
    "            input_shape=(16,)),\n",
    "        tf.keras.layers.Dense(\n",
    "            1, activation='sigmoid',\n",
    "            bias_initializer=output_bias)\n",
    "      ])\n",
    "\n",
    "    model.compile(\n",
    "        optimizer=tf.keras.optimizers.Adam(lr=1e-3),\n",
    "        loss=tf.keras.losses.BinaryCrossentropy(),\n",
    "        metrics=metrics\n",
    "    )\n",
    "\n",
    "    return model"
   ]
  },
  {
   "cell_type": "markdown",
   "metadata": {},
   "source": [
    "- Then, we run it."
   ]
  },
  {
   "cell_type": "code",
   "execution_count": 21,
   "metadata": {},
   "outputs": [
    {
     "name": "stdout",
     "output_type": "stream",
     "text": [
      "WARNING:tensorflow:From /home/florent/.local/lib/python3.6/site-packages/tensorflow/python/ops/init_ops.py:1251: calling VarianceScaling.__init__ (from tensorflow.python.ops.init_ops) with dtype is deprecated and will be removed in a future version.\n",
      "Instructions for updating:\n",
      "Call initializer instance with the dtype argument instead of passing it to the constructor\n",
      "WARNING:tensorflow:From /home/florent/.local/lib/python3.6/site-packages/tensorflow/python/ops/nn_impl.py:180: add_dispatch_support.<locals>.wrapper (from tensorflow.python.ops.array_ops) is deprecated and will be removed in a future version.\n",
      "Instructions for updating:\n",
      "Use tf.where in 2.0, which has the same broadcast rule as np.where\n"
     ]
    }
   ],
   "source": [
    "EPOCHS = 100\n",
    "BATCH_SIZE = 1024\n",
    "\n",
    "neg, pos = np.bincount(df_y['y'])\n",
    "total = neg + pos\n",
    "weight_for_0 = (1 / neg) * (total) / 2.0 \n",
    "weight_for_1 = (1 / pos) * (total) / 2.0\n",
    "\n",
    "class_weight = {0: weight_for_0, 1: weight_for_1}\n",
    "initial_bias = np.log([pos / neg])\n",
    "\n",
    "model = make_model(X_train, output_bias=initial_bias)\n",
    "\n",
    "history = model.fit(\n",
    "    X_train,\n",
    "    y_train,\n",
    "    batch_size=BATCH_SIZE,\n",
    "    epochs=EPOCHS,\n",
    "    validation_data=(X_test, y_test),\n",
    "    class_weight=class_weight,\n",
    "    verbose=0)"
   ]
  },
  {
   "cell_type": "markdown",
   "metadata": {},
   "source": [
    "In this example, we designed a 3 layers neural network. The first layers use relu activation function, and the last one the sigmoid, so as to output a \"probability\", $P(y = 1)$.\n",
    "\n",
    "As for last models, to deal with our imbalanced dataset, we define a class weight. We tried the one above, but in practice (again), $(1, 2)$ seems better.\n",
    "\n",
    "We also set an initial bias, which enables to accelerate the convergence.\n",
    "\n",
    "We tried to set a kind of compromise between the number of epochs and the batch size.\n",
    "\n",
    "The results we obtained in terms of accuracy on the test set were not astonishing with neural networks. Moreover, it was difficult to run those algorithms efficiently, so we ran them on *gpu2.enst.fr*.\n",
    "\n",
    "The best accuracy we obtained (with the whole dataset) was: **0.997879634608**.\n",
    "\n",
    "We paid particular attention to the history curb. Unfortunatly, as our computation were made on GPUs, we are not able to display those curbs properly, but here is an example of what it looks like:"
   ]
  },
  {
   "cell_type": "code",
   "execution_count": 22,
   "metadata": {},
   "outputs": [
    {
     "data": {
      "image/png": "[encoded data removed]",
      "text/plain": [
       "<Figure size 432x288 with 1 Axes>"
      ]
     },
     "metadata": {
      "needs_background": "light"
     },
     "output_type": "display_data"
    },
    {
     "data": {
      "image/png": "[encoded data removed]",
      "text/plain": [
       "<Figure size 432x288 with 1 Axes>"
      ]
     },
     "metadata": {
      "needs_background": "light"
     },
     "output_type": "display_data"
    },
    {
     "data": {
      "image/png": "[encoded data removed]",
      "text/plain": [
       "<Figure size 432x288 with 1 Axes>"
      ]
     },
     "metadata": {
      "needs_background": "light"
     },
     "output_type": "display_data"
    },
    {
     "data": {
      "image/png": "[encoded data removed]",
      "text/plain": [
       "<Figure size 432x288 with 1 Axes>"
      ]
     },
     "metadata": {
      "needs_background": "light"
     },
     "output_type": "display_data"
    }
   ],
   "source": [
    "def plot(param):\n",
    "    plt.plot(history.history[param])\n",
    "    plt.plot(history.history[f'val_{param}'])\n",
    "    plt.title(f'Model {param}')\n",
    "    plt.ylabel(param)\n",
    "    plt.xlabel('Epoch')\n",
    "    plt.legend(['Train', 'Test'], loc='best')\n",
    "    plt.show()\n",
    "\n",
    "plot('accuracy')\n",
    "plot('recall')\n",
    "plot('precision')\n",
    "plot('loss')"
   ]
  },
  {
   "cell_type": "markdown",
   "metadata": {},
   "source": [
    "Here the only thing we can observe is that our model is still learning.\n",
    "\n",
    "- Finally we tried to set the best threshold and then we output our results. Here we set it to 0.8."
   ]
  },
  {
   "cell_type": "code",
   "execution_count": 23,
   "metadata": {},
   "outputs": [],
   "source": [
    "thresh = lambda X: np.array([1 * (x[0] > 0.8) for x in X])\n",
    "predict = lambda X: thresh(model.predict(X))"
   ]
  },
  {
   "cell_type": "code",
   "execution_count": 24,
   "metadata": {},
   "outputs": [
    {
     "name": "stdout",
     "output_type": "stream",
     "text": [
      "================ Model: 3 layers Neural Network ================\n",
      "Accuracy: 0.998\n",
      "% of false positives: 0.5\n",
      "% of false negatives: 0.5\n",
      "Recall: 0.9736842105263158\n",
      "Specificity: 0.998960498960499\n"
     ]
    }
   ],
   "source": [
    "score('3 layers Neural Network', predict, X_test, y_test)"
   ]
  },
  {
   "cell_type": "markdown",
   "metadata": {},
   "source": [
    "## Random Forest"
   ]
  },
  {
   "cell_type": "markdown",
   "metadata": {},
   "source": [
    "The Random Forest Classifier is an ensemble tree-based learning algorithm. It aggregates the votes from different decision trees to decide the final class of the test object. We expect this model to have better results than the previous ones because a large number of relatively uncorrelated models (trees) operating as a committee should be able to outperform any of the individual constituent models. One reason for this statement is the low correlation between models as a random forest consists of multiple random decision trees."
   ]
  },
  {
   "cell_type": "code",
   "execution_count": 9,
   "metadata": {},
   "outputs": [
    {
     "data": {
      "text/plain": [
       "GridSearchCV(cv=3, error_score='raise-deprecating',\n",
       "             estimator=RandomForestClassifier(bootstrap=True, class_weight=None,\n",
       "                                              criterion='gini', max_depth=None,\n",
       "                                              max_features='auto',\n",
       "                                              max_leaf_nodes=None,\n",
       "                                              min_impurity_decrease=0.0,\n",
       "                                              min_impurity_split=None,\n",
       "                                              min_samples_leaf=1,\n",
       "                                              min_samples_split=2,\n",
       "                                              min_weight_fraction_leaf=0.0,\n",
       "                                              n_estimators='warn', n_jobs=None,\n",
       "                                              oob_score=False,\n",
       "                                              random_state=None, verbose=0,\n",
       "                                              warm_start=False),\n",
       "             iid='warn', n_jobs=None,\n",
       "             param_grid={'max_depth': array([ 5,  6,  7,  8,  9, 10, 11, 12, 13, 14]),\n",
       "                         'n_estimators': array([100, 200, 300, 400, 500])},\n",
       "             pre_dispatch='2*n_jobs', refit=True, return_train_score=False,\n",
       "             scoring=None, verbose=0)"
      ]
     },
     "execution_count": 9,
     "metadata": {},
     "output_type": "execute_result"
    }
   ],
   "source": [
    "rf = RandomForestClassifier()\n",
    "params = {\n",
    "    'n_estimators': np.array([100, 200, 300, 400, 500]),\n",
    "    'max_depth': np.arange(5,15)\n",
    "}\n",
    "\n",
    "clf = GridSearchCV(rf, params, cv=3)\n",
    "clf.fit(X_train, y_train)"
   ]
  },
  {
   "cell_type": "code",
   "execution_count": 10,
   "metadata": {},
   "outputs": [
    {
     "name": "stdout",
     "output_type": "stream",
     "text": [
      "Best parameters:\n",
      "{'max_depth': 9, 'n_estimators': 200}\n"
     ]
    }
   ],
   "source": [
    "print(f'Best parameters:\\n{clf.best_params_}')"
   ]
  },
  {
   "cell_type": "code",
   "execution_count": 15,
   "metadata": {},
   "outputs": [
    {
     "data": {
      "text/plain": [
       "RandomForestClassifier(bootstrap=True, class_weight=None, criterion='gini',\n",
       "                       max_depth=9, max_features='auto', max_leaf_nodes=None,\n",
       "                       min_impurity_decrease=0.0, min_impurity_split=None,\n",
       "                       min_samples_leaf=1, min_samples_split=2,\n",
       "                       min_weight_fraction_leaf=0.0, n_estimators=200,\n",
       "                       n_jobs=None, oob_score=False, random_state=None,\n",
       "                       verbose=0, warm_start=False)"
      ]
     },
     "execution_count": 15,
     "metadata": {},
     "output_type": "execute_result"
    }
   ],
   "source": [
    "rf = RandomForestClassifier(\n",
    "    n_estimators=200,\n",
    "    max_depth=9,\n",
    ")\n",
    "\n",
    "rf.fit(X_train, y_train)"
   ]
  },
  {
   "cell_type": "code",
   "execution_count": 16,
   "metadata": {},
   "outputs": [
    {
     "name": "stdout",
     "output_type": "stream",
     "text": [
      "================ Model: Random Forest ================\n",
      "Accuracy: 0.9965\n",
      "% of false positives: 0.2857142857142857\n",
      "% of false negatives: 0.7142857142857143\n",
      "Recall: 0.9479166666666666\n",
      "Specificity: 0.9989495798319328\n"
     ]
    }
   ],
   "source": [
    "predict = lambda X: rf.predict(X)\n",
    "score(\"Random Forest\", predict, X_test, y_test)"
   ]
  },
  {
   "cell_type": "markdown",
   "metadata": {},
   "source": [
    "The best accuracy we obtained (with the whole dataset) was: **~0.9984**.\n",
    "\n",
    "Our expectations have been fulfilled for the Random Forest Classifier. We note that the proportion of false positives and negatives is fairly low. Furthermore, we observe that the results are quite stable, which could be an interesting attribute of ensemble methods."
   ]
  },
  {
   "cell_type": "markdown",
   "metadata": {},
   "source": [
    "## XGBoosting"
   ]
  },
  {
   "cell_type": "markdown",
   "metadata": {},
   "source": [
    "Now that we've seen that an ensemble tree-based learning algorithm have interesting results, with the example of Random Forest Classifier, we can continue on this path by trying to use Gradient Boosting in order to minimize errors.  In this case, we have decided to use, instead of a simple Gradient Boosting algorithm, the XGBoosting algorithm. It can be seen as an improved version of Gradient Boosting, which focuses on execution speed and model performance.  "
   ]
  },
  {
   "cell_type": "markdown",
   "metadata": {},
   "source": [
    "We have chosen 'binary logistic' as an objective function which refers to logistic regression for binary classification, and the output will the probability for each element of the training set to be labeled as 1.\n",
    "Consequently, a threshold is applied on the output probability in order to label our data."
   ]
  },
  {
   "cell_type": "code",
   "execution_count": 17,
   "metadata": {},
   "outputs": [
    {
     "data": {
      "text/plain": [
       "GridSearchCV(cv=3, error_score='raise-deprecating',\n",
       "             estimator=XGBClassifier(base_score=None, booster=None,\n",
       "                                     colsample_bylevel=None,\n",
       "                                     colsample_bynode=None,\n",
       "                                     colsample_bytree=None, gamma=None,\n",
       "                                     gpu_id=None, importance_type='gain',\n",
       "                                     interaction_constraints=None,\n",
       "                                     learning_rate=None, max_delta_step=None,\n",
       "                                     max_depth=None, min_child_weight=None,\n",
       "                                     missing=nan, monotone_constrai...\n",
       "                                     reg_lambda=None, scale_pos_weight=None,\n",
       "                                     subsample=None, tree_method=None,\n",
       "                                     validate_parameters=False,\n",
       "                                     verbosity=None),\n",
       "             iid='warn', n_jobs=None,\n",
       "             param_grid={'alpha': array([0, 1, 2, 3, 4]),\n",
       "                         'colsample_bytree': array([0.6, 0.7, 0.8]),\n",
       "                         'learning_rate': array([0.1 , 0.01]),\n",
       "                         'max_depth': array([ 8,  9, 10, 11])},\n",
       "             pre_dispatch='2*n_jobs', refit=True, return_train_score=False,\n",
       "             scoring=None, verbose=0)"
      ]
     },
     "execution_count": 17,
     "metadata": {},
     "output_type": "execute_result"
    }
   ],
   "source": [
    "model = XGBClassifier(\n",
    "    objective='binary:logistic',\n",
    "    n_estimators=1000,\n",
    ")\n",
    "params = {\n",
    "    'max_depth': np.arange(8,12),\n",
    "    'colsample_bytree': np.array([0.6, 0.7, 0.8]),\n",
    "    'learning_rate': np.array([0.1, 0.01]),\n",
    "    'alpha': np.arange(0,5)\n",
    "}\n",
    "\n",
    "clf = GridSearchCV(model, params, cv=3)\n",
    "clf.fit(X_train, y_train)"
   ]
  },
  {
   "cell_type": "code",
   "execution_count": 18,
   "metadata": {},
   "outputs": [
    {
     "name": "stdout",
     "output_type": "stream",
     "text": [
      "Best parameters:\n",
      "{'alpha': 0, 'colsample_bytree': 0.6, 'learning_rate': 0.1, 'max_depth': 8}\n"
     ]
    }
   ],
   "source": [
    "print(f'Best parameters:\\n{clf.best_params_}')"
   ]
  },
  {
   "cell_type": "markdown",
   "metadata": {},
   "source": [
    "With the whole dataset, the best parameters are actually **max_depth = 9, colsample_by_tree = 0.7 and alpha = 1**  "
   ]
  },
  {
   "cell_type": "code",
   "execution_count": 24,
   "metadata": {},
   "outputs": [
    {
     "data": {
      "text/plain": [
       "XGBClassifier(alpha=1, base_score=0.5, booster=None, colsample_bylevel=1,\n",
       "              colsample_bynode=1, colsample_bytree=0.7, gamma=0, gpu_id=-1,\n",
       "              importance_type='gain', interaction_constraints=None,\n",
       "              learning_rate=0.01, max_delta_step=0, max_depth=9,\n",
       "              min_child_weight=1, missing=nan, monotone_constraints=None,\n",
       "              n_estimators=1000, n_jobs=0, num_parallel_tree=1,\n",
       "              objective='binary:logistic', random_state=0, reg_alpha=1,\n",
       "              reg_lambda=1, scale_pos_weight=1, subsample=1, tree_method=None,\n",
       "              validate_parameters=False, verbosity=None)"
      ]
     },
     "execution_count": 24,
     "metadata": {},
     "output_type": "execute_result"
    }
   ],
   "source": [
    "model = XGBClassifier(\n",
    "    objective='binary:logistic',\n",
    "    n_estimators=1000,\n",
    "    max_depth=9,\n",
    "    colsample_bytree=0.7,\n",
    "    alpha=1,\n",
    "    learning_rate=0.01\n",
    ")\n",
    "\n",
    "model.fit(X_train, y_train)"
   ]
  },
  {
   "cell_type": "code",
   "execution_count": 25,
   "metadata": {},
   "outputs": [
    {
     "name": "stdout",
     "output_type": "stream",
     "text": [
      "================ Model: XGBoosting ================\n",
      "Accuracy: 0.995\n",
      "% of false positives: 0.4\n",
      "% of false negatives: 0.6\n",
      "Recall: 0.9375\n",
      "Specificity: 0.9978991596638656\n"
     ]
    }
   ],
   "source": [
    "predict = lambda X: model.predict(X)\n",
    "score(\"XGBoosting\", predict, X_test, y_test)"
   ]
  },
  {
   "cell_type": "markdown",
   "metadata": {},
   "source": [
    "The best accuracy we obtained (with the whole dataset) was: **0.998598678358**. \n",
    "\n",
    "We can observe that XGBoosting gives better results than Random Forest with the whole dataset. Indeed, it is a gradient boosting decision tree algorithm, where new models are created that predict the residuals or errors of prior models and then added together to make the final prediction. It is called gradient boosting because it uses a gradient descent algorithm to minimize the loss when adding new models. Furthermore, XGBoost stands for eXtreme Gradient Boosting. Thus, it is an enhanced version of Gradient Boosting. "
   ]
  },
  {
   "cell_type": "markdown",
   "metadata": {},
   "source": [
    "## Stacking"
   ]
  },
  {
   "cell_type": "markdown",
   "metadata": {},
   "source": [
    "We also found an interesting ensemble method : *stacking*. It consists of using different machine learning models in order to predict our class value. It could be relevant to compute it, as we obtain good accuracy with our previous models.\n",
    "\n",
    "A first natural choice was to use all of them (and in practice, it was the most efficient)."
   ]
  },
  {
   "cell_type": "code",
   "execution_count": 35,
   "metadata": {},
   "outputs": [
    {
     "data": {
      "text/plain": [
       "StackingClassifier(cv=None,\n",
       "                   estimators=[('xgboosting',\n",
       "                                XGBClassifier(alpha=1, base_score=None,\n",
       "                                              booster=None,\n",
       "                                              colsample_bylevel=None,\n",
       "                                              colsample_bynode=None,\n",
       "                                              colsample_bytree=0.7, gamma=None,\n",
       "                                              gpu_id=None,\n",
       "                                              importance_type='gain',\n",
       "                                              interaction_constraints=None,\n",
       "                                              learning_rate=0.1,\n",
       "                                              max_delta_step=None, max_depth=9,\n",
       "                                              min_child_weight=None,\n",
       "                                              missing=nan,\n",
       "                                              monotone_constraints=...\n",
       "                                                       random_state=0,\n",
       "                                                       verbose=0,\n",
       "                                                       warm_start=False))],\n",
       "                   final_estimator=LogisticRegression(C=1.0, class_weight=None,\n",
       "                                                      dual=False,\n",
       "                                                      fit_intercept=True,\n",
       "                                                      intercept_scaling=1,\n",
       "                                                      l1_ratio=None,\n",
       "                                                      max_iter=100,\n",
       "                                                      multi_class='auto',\n",
       "                                                      n_jobs=None, penalty='l2',\n",
       "                                                      random_state=None,\n",
       "                                                      solver='lbfgs',\n",
       "                                                      tol=0.0001, verbose=0,\n",
       "                                                      warm_start=False),\n",
       "                   n_jobs=None, passthrough=False, stack_method='auto',\n",
       "                   verbose=0)"
      ]
     },
     "execution_count": 35,
     "metadata": {},
     "output_type": "execute_result"
    }
   ],
   "source": [
    "xgboosting = XGBClassifier(\n",
    "    objective='binary:logistic',\n",
    "    colsample_bytree=0.7,\n",
    "    learning_rate=0.1,\n",
    "    max_depth=9,\n",
    "    alpha=1,\n",
    "    n_estimators=1000)\n",
    "\n",
    "perceptron = Perceptron(\n",
    "    class_weight={0: 1, 1: 2},\n",
    "    eta0=0.01\n",
    ")\n",
    "\n",
    "svm = SVC(\n",
    "    C=4,\n",
    "    class_weight={0: 1, 1: 2},\n",
    "    kernel='rbf'\n",
    ")\n",
    "\n",
    "random_forest = RandomForestClassifier(\n",
    "    class_weight={0: 1, 1: 2},\n",
    "    n_estimators=100,\n",
    "    max_depth=8,\n",
    "    random_state=0\n",
    ")\n",
    "\n",
    "estimators = [\n",
    "    ('xgboosting', xgboosting),\n",
    "    ('Perceptron', perceptron),\n",
    "    ('SVM', svm),\n",
    "    ('Random Forest', random_forest)\n",
    "]\n",
    "\n",
    "model = StackingClassifier(\n",
    "    estimators=estimators,\n",
    "    final_estimator=LogisticRegression()\n",
    ")\n",
    "\n",
    "model.fit(X_train, y_train)"
   ]
  },
  {
   "cell_type": "code",
   "execution_count": 38,
   "metadata": {},
   "outputs": [
    {
     "name": "stdout",
     "output_type": "stream",
     "text": [
      "================ Model: Stacking ================\n",
      "Accuracy: 0.9985\n",
      "% of false positives: 0.3333333333333333\n",
      "% of false negatives: 0.6666666666666666\n",
      "Recall: 0.9736842105263158\n",
      "Specificity: 0.9994802494802495\n"
     ]
    }
   ],
   "source": [
    "predict = lambda X: model.predict(X)\n",
    "score('Stacking', predict, X_test, y_test)"
   ]
  },
  {
   "cell_type": "markdown",
   "metadata": {},
   "source": [
    "With this model, we obtain our best accuracy on the test set: **0.998619170803**"
   ]
  },
  {
   "cell_type": "markdown",
   "metadata": {},
   "source": [
    "## Data augmentation"
   ]
  },
  {
   "cell_type": "markdown",
   "metadata": {},
   "source": [
    "After some research about the way we could face the issue of imbalanced data, we thought about augmenting our minority class (class 1). A great Python library to do it is imblearn: we used some oversampling method called SMOTE (Synthetic Minority Over-Sampling TEchnique), applied to our previous initial models (obviously, we removed the class weights $(1, 2)$).\n",
    "\n",
    "We just have to apply this preprocessing method, and re-run our algorithms."
   ]
  },
  {
   "cell_type": "code",
   "execution_count": 42,
   "metadata": {},
   "outputs": [],
   "source": [
    "sm = SMOTE(random_state=12)\n",
    "X_train_res, y_train_res = sm.fit_sample(X_train, y_train)"
   ]
  },
  {
   "cell_type": "code",
   "execution_count": 45,
   "metadata": {},
   "outputs": [
    {
     "name": "stdout",
     "output_type": "stream",
     "text": [
      "Samples from class 0: 7726\n",
      "Samples from class 1: 7726\n"
     ]
    }
   ],
   "source": [
    "counts = np.bincount(y_train_res.flatten())\n",
    "print(f'Samples from class 0: {counts[0]}')\n",
    "print(f'Samples from class 1: {counts[1]}')"
   ]
  },
  {
   "cell_type": "markdown",
   "metadata": {},
   "source": [
    "We tried it on the following methods (amongst others):\n",
    "- XGBoosting (accuracy: ~**0.9985**)\n",
    "- Stacking XGBoosting/RandomForest/Perceptron (accuracy: ~**0.9984**)\n",
    "- Stacking SVM/RandomForest/Perceptron/XGBoosting (accuracy: ~**0.9984**)\n",
    "\n",
    "It was not as successful as expected. It seems that we have too much data from class 1. Maybe we could have had a class_weight so as to penalize false positives, or train our model with less samples from class 1 (for example: 30% with label 1 - 70% with label 0), but as the computations were long, we did not have sufficient time to re-train it another time."
   ]
  },
  {
   "cell_type": "markdown",
   "metadata": {},
   "source": [
    "## Conclusion"
   ]
  },
  {
   "cell_type": "markdown",
   "metadata": {},
   "source": [
    "It was an interesting challenge and a great opportunity to deal with an imbalanced dataset (we believe that it was the main issue), which is a concrete and ubiquitous problem among machine learning.\n",
    "\n",
    "We experienced many methods studied during the lectures and discovered new ones. We saw how pre-processing is important, and also that most of the time, ensemble methods are more stable."
   ]
  }
 ],
 "metadata": {
  "kernelspec": {
   "display_name": "Python 3",
   "language": "python",
   "name": "python3"
  },
  "language_info": {
   "codemirror_mode": {
    "name": "ipython",
    "version": 3
   },
   "file_extension": ".py",
   "mimetype": "text/x-python",
   "name": "python",
   "nbconvert_exporter": "python",
   "pygments_lexer": "ipython3",
   "version": "3.7.3"
  }
 },
 "nbformat": 4,
 "nbformat_minor": 2
}
